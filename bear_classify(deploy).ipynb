{
 "cells": [
  {
   "cell_type": "code",
   "execution_count": 2,
   "id": "4cefc548-5266-40f6-9aaf-a7652b7ba774",
   "metadata": {},
   "outputs": [
    {
     "data": {
      "text/plain": [
       "(#1) [Path('export.pkl')]"
      ]
     },
     "execution_count": 2,
     "metadata": {},
     "output_type": "execute_result"
    }
   ],
   "source": [
    "from fastai.vision.all import *\n",
    "from fastai.vision.widgets import *\n",
    "btn_upload = widgets.FileUpload()\n",
    "out_pl=widgets.Output()\n",
    "lbl=widgets.Label()\n",
    "btn_classify=widgets.Button(description='classify')\n",
    "path=Path()"
   ]
  },
  {
   "cell_type": "code",
   "execution_count": 3,
   "id": "5e8b8b7c-01e4-4d52-ab71-d3c62cb5cb33",
   "metadata": {},
   "outputs": [
    {
     "data": {
      "application/vnd.jupyter.widget-view+json": {
       "model_id": "f2d44d40082049178c4ee25abb9b7823",
       "version_major": 2,
       "version_minor": 0
      },
      "text/plain": [
       "VBox(children=(Label(value='Select your bear!'), FileUpload(value=(), description='Upload'), Button(descriptio…"
      ]
     },
     "execution_count": 3,
     "metadata": {},
     "output_type": "execute_result"
    }
   ],
   "source": [
    "learn_inf=load_learner(path/'export.pkl')\n",
    "def on_click_method(change):\n",
    "    img = PILImage.create(btn_upload.value[0].content.tobytes())\n",
    "    out_pl.clear_output()\n",
    "    with out_pl:\n",
    "        #display(img)\n",
    "        display(img.to_thumb(128,128))\n",
    "    pred,index,probs=learn_inf.predict(img)\n",
    "    lbl.value=f'Prediction: {pred};   probability: {probs[index]:.04f}'\n",
    "\n",
    "btn_classify.on_click(on_click_method)\n",
    "VBox([Label(\"Select your bear!\"),btn_upload,btn_classify,out_pl,lbl])"
   ]
  },
  {
   "cell_type": "code",
   "execution_count": null,
   "id": "99082134-c615-423c-8b4a-bbd72fb800cb",
   "metadata": {},
   "outputs": [],
   "source": []
  }
 ],
 "metadata": {
  "kernelspec": {
   "display_name": "Python 3 (ipykernel)",
   "language": "python",
   "name": "python3"
  },
  "language_info": {
   "codemirror_mode": {
    "name": "ipython",
    "version": 3
   },
   "file_extension": ".py",
   "mimetype": "text/x-python",
   "name": "python",
   "nbconvert_exporter": "python",
   "pygments_lexer": "ipython3",
   "version": "3.12.3"
  }
 },
 "nbformat": 4,
 "nbformat_minor": 5
}
